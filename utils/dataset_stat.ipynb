{
 "cells": [
  {
   "cell_type": "code",
   "execution_count": 1,
   "metadata": {},
   "outputs": [],
   "source": [
    "import glob\n",
    "import os"
   ]
  },
  {
   "cell_type": "code",
   "execution_count": 8,
   "metadata": {},
   "outputs": [],
   "source": [
    "dir_path = '/data/vision/phillipi/ganclr/datasets/bigbi-resnet_128_gauss_angular_std0.3_imagenet100_N20'\n",
    "# dir_path = '/data/vision/phillipi/ganclr/datasets/bigbi_resnet_128_gauss1_std0.3_imagenet100_N20'\n",
    "\n",
    "list_dirs = glob.glob(os.path.join(dir_path, 'train', '*'))"
   ]
  },
  {
   "cell_type": "code",
   "execution_count": 9,
   "metadata": {},
   "outputs": [
    {
     "name": "stdout",
     "output_type": "stream",
     "text": [
      "100\n"
     ]
    }
   ],
   "source": [
    "num_classes = len(list_dirs)\n",
    "print(num_classes)"
   ]
  },
  {
   "cell_type": "code",
   "execution_count": 10,
   "metadata": {},
   "outputs": [
    {
     "name": "stdout",
     "output_type": "stream",
     "text": [
      "/data/vision/phillipi/ganclr/datasets/bigbi-resnet_128_gauss_angular_std0.3_imagenet100_N20/train/n01820546\n",
      "/data/vision/phillipi/ganclr/datasets/bigbi-resnet_128_gauss_angular_std0.3_imagenet100_N20/train/n13037406\n"
     ]
    }
   ],
   "source": [
    "for i in range(num_classes):\n",
    "    num_imgs = len(glob.glob(os.path.join(list_dirs[i], '*.png')))\n",
    "    if num_imgs != 1300*21:\n",
    "        print(list_dirs[i])\n",
    "    "
   ]
  },
  {
   "cell_type": "code",
   "execution_count": null,
   "metadata": {},
   "outputs": [],
   "source": [
    "A = glob.glob(os.path.join(list_dirs[i], '*.png'))"
   ]
  },
  {
   "cell_type": "code",
   "execution_count": 2,
   "metadata": {},
   "outputs": [
    {
     "name": "stdout",
     "output_type": "stream",
     "text": [
      "bigbi_resnet_128_gauss1_std0.2_imagenet100_N20\r\n",
      "bigbi_resnet_128_gauss1_std0.3_imagenet100_N20\r\n",
      "bigbi-resnet_128_gauss_angular_std0.2_imagenet100_N20\r\n",
      "bigbi-resnet_128_gauss_angular_std0.3_imagenet100_N20\r\n",
      "big_deep256_tr1.0_gauss1_std1.0_imagenet100_N20\r\n",
      "big_deep256_tr1.0_gauss_angular_std1.0_imagenet100_N20\r\n",
      "big_deep256_tr1.0_steer_composite1_imagenet100_N5\r\n",
      "biggan256tr1-png_rnd_indep_1_samples\r\n",
      "biggan256tr1-png_rnd_indep_20_samples\r\n"
     ]
    }
   ],
   "source": [
    "!ls '/data/vision/phillipi/ganclr/datasets/'"
   ]
  },
  {
   "cell_type": "code",
   "execution_count": null,
   "metadata": {},
   "outputs": [],
   "source": [
    "CUDA_VISIBLE_DEVICES=2 python generate_dataset_unconditionalbiggan_steer_rnd_ImageNet100_Nsamples.py"
   ]
  },
  {
   "cell_type": "code",
   "execution_count": null,
   "metadata": {},
   "outputs": [],
   "source": []
  }
 ],
 "metadata": {
  "kernelspec": {
   "display_name": "Python (stenv)",
   "language": "python",
   "name": "stenv"
  },
  "language_info": {
   "codemirror_mode": {
    "name": "ipython",
    "version": 3
   },
   "file_extension": ".py",
   "mimetype": "text/x-python",
   "name": "python",
   "nbconvert_exporter": "python",
   "pygments_lexer": "ipython3",
   "version": "3.6.11"
  }
 },
 "nbformat": 4,
 "nbformat_minor": 4
}
